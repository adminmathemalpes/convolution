{
 "cells": [
  {
   "cell_type": "markdown",
   "id": "28f8a339",
   "metadata": {},
   "source": [
    "# Implementing discrete 2d image convolution with matrix multiplication"
   ]
  },
  {
   "cell_type": "markdown",
   "id": "6689ebea",
   "metadata": {},
   "source": [
    "Sources:\n",
    "\n",
    "* [ai.stackexchange](https://ai.stackexchange.com/questions/11172/how-can-the-convolution-operation-be-implemented-as-a-matrix-multiplication)"
   ]
  },
  {
   "cell_type": "markdown",
   "id": "ec06fbd6",
   "metadata": {},
   "source": [
    "![Stack Exchange screenshot](./media/screenshot_stack_exchange.png)"
   ]
  },
  {
   "cell_type": "code",
   "execution_count": 1,
   "id": "49fe6246",
   "metadata": {},
   "outputs": [],
   "source": [
    "import numpy as np\n",
    "import scipy"
   ]
  },
  {
   "cell_type": "code",
   "execution_count": 10,
   "id": "b5120095",
   "metadata": {},
   "outputs": [],
   "source": [
    "def convolve(\n",
    "    kernel: np.array,\n",
    "    image: np.array,\n",
    "):\n",
    "    print(len(kernel.shape))\n",
    "    assert(len(kernel.shape) == 2)\n",
    "    assert(kernel.shape[0] == kernel.shape[1])\n",
    "    assert(len(image.shape) == 2)\n",
    "    assert(image.shape[0] == image.shape[1])\n",
    "    \n",
    "    def _construct_circulant_matrix():\n",
    "        num_interleaved_zeros = image.shape[0] - kernel.shape[0]\n",
    "        num_trailing_zeros = image.shape[0]\n",
    "        first_row = [list(kernel[i]) + [0 for _ in range(num_interleaved_zeros)] for i in range(kernel.shape[0])] + [[0 for _ in range(num_trailing_zeros)]]\n",
    "        print(\"1\", first_row)\n",
    "        first_row = [first_row[r][c] for r in range(len(first_row)) for c in range(len(first_row[0]))]\n",
    "        print(\"2\", first_row)\n",
    "        first_row = np.array(first_row)\n",
    "        print(\"3\", first_row)\n",
    "        #first_row = np.reshape((kernel.shape[0] + num_interleaved_zeros)*(kernel.shape[0] + num_interleaved_zeros), first_row,)\n",
    "        #print(\"4\", first_row)\n",
    "        circulant_matrix = scipy.linalg.circulant(first_row)\n",
    "        print(\"type(circulant_matrix)\", type(circulant_matrix))\n",
    "        return circulant_matrix\n",
    "    \n",
    "    def _flatten_image(image):\n",
    "        print(\"&image\", image, type(image), image.shape)\n",
    "        print(\"&type(image.shape[0]*image.shape[0])\", type(image.shape[0]*image.shape[0]), image.shape[0]*image.shape[0])\n",
    "        image = np.reshape(image, image.shape[0]*image.shape[0])\n",
    "        return image\n",
    "    \n",
    "    def _compute_product(circulant_matrix, flattened_image):\n",
    "        print(\"circulant_matrix.shape\", circulant_matrix.shape)\n",
    "        print(\"flattened_image.shape\", flattened_image.shape)\n",
    "        return np.matmul(circulant_matrix, flattened_image)\n",
    "    \n",
    "    circulant_matrix = _construct_circulant_matrix()\n",
    "    flattened_image = _flatten_image(image)\n",
    "    product = _compute_product(circulant_matrix, flattened_image)\n",
    "    print(\"&product\", product)\n",
    "    product = np.reshape(product, (4, 4))\n",
    "    \n",
    "    return circulant_matrix, flattened_image, product"
   ]
  },
  {
   "cell_type": "code",
   "execution_count": 11,
   "id": "258fa441",
   "metadata": {},
   "outputs": [
    {
     "name": "stdout",
     "output_type": "stream",
     "text": [
      "2\n",
      "1 [[0, 1, 0, 0], [0, 1, 0, 0], [0, 1, 0, 0], [0, 0, 0, 0]]\n",
      "2 [0, 1, 0, 0, 0, 1, 0, 0, 0, 1, 0, 0, 0, 0, 0, 0]\n",
      "3 [0 1 0 0 0 1 0 0 0 1 0 0 0 0 0 0]\n",
      "type(circulant_matrix) <class 'numpy.ndarray'>\n",
      "&image [[0 1 1 1]\n",
      " [0 1 0 1]\n",
      " [0 1 0 1]\n",
      " [0 1 1 1]] <class 'numpy.ndarray'> (4, 4)\n",
      "&type(image.shape[0]*image.shape[0]) <class 'int'> 16\n",
      "circulant_matrix.shape (16, 16)\n",
      "flattened_image.shape (16,)\n",
      "&product [3 0 3 2 3 0 3 2 3 0 3 1 3 0 3 1]\n"
     ]
    }
   ],
   "source": [
    "kernel = np.array(\n",
    "    [\n",
    "        np.array([0, 1, 0]),\n",
    "        np.array([0, 1, 0]),\n",
    "        np.array([0, 1, 0]),\n",
    "    ]\n",
    ")\n",
    "\n",
    "image = np.array(\n",
    "    [\n",
    "        np.array([0, 1, 1, 1]),\n",
    "        np.array([0, 1, 0, 1]),\n",
    "        np.array([0, 1, 0, 1]),\n",
    "        np.array([0, 1, 1, 1]),\n",
    "    ]\n",
    ")\n",
    "circulant_matrix, flattened_image, product = convolve(kernel, image)"
   ]
  },
  {
   "cell_type": "code",
   "execution_count": 12,
   "id": "27160a87",
   "metadata": {},
   "outputs": [
    {
     "data": {
      "text/plain": [
       "numpy.ndarray"
      ]
     },
     "execution_count": 12,
     "metadata": {},
     "output_type": "execute_result"
    }
   ],
   "source": [
    "type(product)"
   ]
  },
  {
   "cell_type": "code",
   "execution_count": 13,
   "id": "78c0c6b0",
   "metadata": {},
   "outputs": [
    {
     "data": {
      "text/plain": [
       "array([3, 0, 3, 2])"
      ]
     },
     "execution_count": 13,
     "metadata": {},
     "output_type": "execute_result"
    }
   ],
   "source": [
    "product[0]"
   ]
  },
  {
   "cell_type": "code",
   "execution_count": 14,
   "id": "4927c5f8",
   "metadata": {},
   "outputs": [],
   "source": [
    "product = np.reshape(product, (4, 4))"
   ]
  },
  {
   "cell_type": "code",
   "execution_count": 15,
   "id": "224e7791",
   "metadata": {},
   "outputs": [
    {
     "data": {
      "text/plain": [
       "array([[3, 0, 3, 2],\n",
       "       [3, 0, 3, 2],\n",
       "       [3, 0, 3, 1],\n",
       "       [3, 0, 3, 1]])"
      ]
     },
     "execution_count": 15,
     "metadata": {},
     "output_type": "execute_result"
    }
   ],
   "source": [
    "product"
   ]
  },
  {
   "cell_type": "code",
   "execution_count": 16,
   "id": "6a572609",
   "metadata": {},
   "outputs": [
    {
     "data": {
      "image/png": "[encoded data removed]",
      "text/plain": [
       "<Figure size 432x288 with 2 Axes>"
      ]
     },
     "metadata": {
      "needs_background": "light"
     },
     "output_type": "display_data"
    }
   ],
   "source": [
    "import matplotlib.pyplot as plt\n",
    "\n",
    "plt.imshow(product)\n",
    "plt.colorbar()\n",
    "plt.show()"
   ]
  },
  {
   "cell_type": "markdown",
   "id": "5f69fb3a",
   "metadata": {},
   "source": [
    "Ideas for next steps:\n",
    "* show with horizontal bars\n",
    "* boundary detection of convex quadrilateral using\n",
    "    * deterministic\n",
    "    * ML methods"
   ]
  },
  {
   "cell_type": "code",
   "execution_count": 18,
   "id": "1e70dc52",
   "metadata": {},
   "outputs": [
    {
     "name": "stdout",
     "output_type": "stream",
     "text": [
      "2\n",
      "1 [[1, 1, 1, 0], [0, 0, 0, 0], [0, 0, 0, 0], [0, 0, 0, 0]]\n",
      "2 [1, 1, 1, 0, 0, 0, 0, 0, 0, 0, 0, 0, 0, 0, 0, 0]\n",
      "3 [1 1 1 0 0 0 0 0 0 0 0 0 0 0 0 0]\n",
      "type(circulant_matrix) <class 'numpy.ndarray'>\n",
      "&image [[0 1 1 1]\n",
      " [0 1 0 1]\n",
      " [0 1 0 1]\n",
      " [0 1 1 1]] <class 'numpy.ndarray'> (4, 4)\n",
      "&type(image.shape[0]*image.shape[0]) <class 'int'> 16\n",
      "circulant_matrix.shape (16, 16)\n",
      "flattened_image.shape (16,)\n",
      "&product [2 2 2 3 2 2 1 2 1 2 1 2 1 2 2 3]\n"
     ]
    },
    {
     "data": {
      "image/png": "[encoded data removed]",
      "text/plain": [
       "<Figure size 432x288 with 2 Axes>"
      ]
     },
     "metadata": {
      "needs_background": "light"
     },
     "output_type": "display_data"
    }
   ],
   "source": [
    "kernel = np.array(\n",
    "    [\n",
    "        np.array([1, 1, 1]),\n",
    "        np.array([0, 0, 0]),\n",
    "        np.array([0, 0, 0]),\n",
    "    ]\n",
    ")\n",
    "\n",
    "image = np.array(\n",
    "    [\n",
    "        np.array([0, 1, 1, 1]),\n",
    "        np.array([0, 1, 0, 1]),\n",
    "        np.array([0, 1, 0, 1]),\n",
    "        np.array([0, 1, 1, 1]),\n",
    "    ]\n",
    ")\n",
    "circulant_matrix, flattened_image, product = convolve(kernel, image)\n",
    "plt.imshow(product)\n",
    "plt.colorbar()\n",
    "plt.show()"
   ]
  },
  {
   "cell_type": "code",
   "execution_count": null,
   "id": "e6e3beb9",
   "metadata": {},
   "outputs": [],
   "source": []
  },
  {
   "cell_type": "code",
   "execution_count": null,
   "id": "87f023c1",
   "metadata": {},
   "outputs": [],
   "source": []
  }
 ],
 "metadata": {
  "kernelspec": {
   "display_name": "env",
   "language": "python",
   "name": "env"
  },
  "language_info": {
   "codemirror_mode": {
    "name": "ipython",
    "version": 3
   },
   "file_extension": ".py",
   "mimetype": "text/x-python",
   "name": "python",
   "nbconvert_exporter": "python",
   "pygments_lexer": "ipython3",
   "version": "3.10.12"
  }
 },
 "nbformat": 4,
 "nbformat_minor": 5
}
