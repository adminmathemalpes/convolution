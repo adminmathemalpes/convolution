{
 "cells": [
  {
   "cell_type": "markdown",
   "id": "28f8a339",
   "metadata": {},
   "source": [
    "# Implementing discrete 2d image convolution with matrix multiplication"
   ]
  },
  {
   "cell_type": "markdown",
   "id": "6689ebea",
   "metadata": {},
   "source": [
    "Sources:\n",
    "\n",
    "* [ai.stackexchange](https://ai.stackexchange.com/questions/11172/how-can-the-convolution-operation-be-implemented-as-a-matrix-multiplication)"
   ]
  },
  {
   "cell_type": "markdown",
   "id": "ec06fbd6",
   "metadata": {},
   "source": [
    "![Stack Exchange screenshot](./media/screenshot_stack_exchange.png)"
   ]
  },
  {
   "cell_type": "code",
   "execution_count": 152,
   "id": "49fe6246",
   "metadata": {},
   "outputs": [],
   "source": [
    "import numpy as np\n",
    "import scipy"
   ]
  },
  {
   "cell_type": "code",
   "execution_count": 216,
   "id": "b5120095",
   "metadata": {},
   "outputs": [],
   "source": [
    "def convolve(\n",
    "    kernel: np.array,\n",
    "    image: np.array,\n",
    "):\n",
    "    print(len(kernel.shape))\n",
    "    assert(len(kernel.shape) == 2)\n",
    "    assert(kernel.shape[0] == kernel.shape[1])\n",
    "    assert(len(image.shape) == 2)\n",
    "    assert(image.shape[0] == image.shape[1])\n",
    "    \n",
    "    def _construct_circulant_matrix():\n",
    "        num_interleaved_zeros = image.shape[0] - kernel.shape[0]\n",
    "        num_trailing_zeros = image.shape[0]\n",
    "        first_row = [list(kernel[i]) + [0 for _ in range(num_interleaved_zeros)] for i in range(kernel.shape[0])] + [[0 for _ in range(num_trailing_zeros)]]\n",
    "        print(\"1\", first_row)\n",
    "        first_row = [first_row[r][c] for r in range(len(first_row)) for c in range(len(first_row[0]))]\n",
    "        print(\"2\", first_row)\n",
    "        first_row = np.array(first_row)\n",
    "        print(\"3\", first_row)\n",
    "        #first_row = np.reshape((kernel.shape[0] + num_interleaved_zeros)*(kernel.shape[0] + num_interleaved_zeros), first_row,)\n",
    "        #print(\"4\", first_row)\n",
    "        circulant_matrix = scipy.linalg.circulant(first_row)\n",
    "        print(\"type(circulant_matrix)\", type(circulant_matrix))\n",
    "        return circulant_matrix\n",
    "    \n",
    "    def _flatten_image(image):\n",
    "        print(\"&image\", image, type(image), image.shape)\n",
    "        print(\"&type(image.shape[0]*image.shape[0])\", type(image.shape[0]*image.shape[0]), image.shape[0]*image.shape[0])\n",
    "        image = np.reshape(image, image.shape[0]*image.shape[0])\n",
    "        return image\n",
    "    \n",
    "    def _compute_product(circulant_matrix, flattened_image):\n",
    "        print(\"circulant_matrix.shape\", circulant_matrix.shape)\n",
    "        print(\"flattened_image.shape\", flattened_image.shape)\n",
    "        return np.matmul(circulant_matrix, flattened_image)\n",
    "    \n",
    "    circulant_matrix = _construct_circulant_matrix()\n",
    "    flattened_image = _flatten_image(image)\n",
    "    product = _compute_product(circulant_matrix, flattened_image)\n",
    "    print(\"&product\", product)\n",
    "    \n",
    "    return circulant_matrix, flattened_image, product"
   ]
  },
  {
   "cell_type": "code",
   "execution_count": 217,
   "id": "258fa441",
   "metadata": {},
   "outputs": [
    {
     "name": "stdout",
     "output_type": "stream",
     "text": [
      "2\n",
      "1 [[0, 1, 0, 0], [0, 1, 0, 0], [0, 1, 0, 0], [0, 0, 0, 0]]\n",
      "2 [0, 1, 0, 0, 0, 1, 0, 0, 0, 1, 0, 0, 0, 0, 0, 0]\n",
      "3 [0 1 0 0 0 1 0 0 0 1 0 0 0 0 0 0]\n",
      "type(circulant_matrix) <class 'numpy.ndarray'>\n",
      "&image [[0 1 1 1]\n",
      " [0 1 0 1]\n",
      " [0 1 0 1]\n",
      " [0 1 1 1]] <class 'numpy.ndarray'> (4, 4)\n",
      "&type(image.shape[0]*image.shape[0]) <class 'int'> 16\n",
      "circulant_matrix.shape (16, 16)\n",
      "flattened_image.shape (16,)\n",
      "&product [3 0 3 2 3 0 3 2 3 0 3 1 3 0 3 1]\n"
     ]
    }
   ],
   "source": [
    "kernel = np.array(\n",
    "    [\n",
    "        np.array([0, 1, 0]),\n",
    "        np.array([0, 1, 0]),\n",
    "        np.array([0, 1, 0]),\n",
    "    ]\n",
    ")\n",
    "\n",
    "image = np.array(\n",
    "    [\n",
    "        np.array([0, 1, 1, 1]),\n",
    "        np.array([0, 1, 0, 1]),\n",
    "        np.array([0, 1, 0, 1]),\n",
    "        np.array([0, 1, 1, 1]),\n",
    "    ]\n",
    ")\n",
    "circulant_matrix, flattened_image, product = convolve(kernel, image)"
   ]
  },
  {
   "cell_type": "code",
   "execution_count": 218,
   "id": "4ff02c9c",
   "metadata": {},
   "outputs": [
    {
     "data": {
      "text/plain": [
       "numpy.ndarray"
      ]
     },
     "execution_count": 218,
     "metadata": {},
     "output_type": "execute_result"
    }
   ],
   "source": [
    "type(product)"
   ]
  },
  {
   "cell_type": "code",
   "execution_count": 226,
   "id": "fed19569",
   "metadata": {},
   "outputs": [
    {
     "data": {
      "text/plain": [
       "array([3, 0, 3, 2, 3, 0, 3, 2, 3, 0, 3, 1, 3, 0, 3, 1])"
      ]
     },
     "execution_count": 226,
     "metadata": {},
     "output_type": "execute_result"
    }
   ],
   "source": [
    "product[0]"
   ]
  },
  {
   "cell_type": "code",
   "execution_count": 223,
   "id": "1cbe8ff9",
   "metadata": {},
   "outputs": [
    {
     "ename": "ValueError",
     "evalue": "setting an array element with a sequence. The requested array has an inhomogeneous shape after 1 dimensions. The detected shape was (2,) + inhomogeneous part.",
     "output_type": "error",
     "traceback": [
      "\u001b[0;31m---------------------------------------------------------------------------\u001b[0m",
      "\u001b[0;31mValueError\u001b[0m                                Traceback (most recent call last)",
      "Input \u001b[0;32mIn [223]\u001b[0m, in \u001b[0;36m<cell line: 1>\u001b[0;34m()\u001b[0m\n\u001b[0;32m----> 1\u001b[0m product \u001b[38;5;241m=\u001b[39m \u001b[43mnp\u001b[49m\u001b[38;5;241;43m.\u001b[39;49m\u001b[43mreshape\u001b[49m\u001b[43m(\u001b[49m\u001b[43mproduct\u001b[49m\u001b[43m,\u001b[49m\u001b[43m \u001b[49m\u001b[43m(\u001b[49m\u001b[38;5;241;43m4\u001b[39;49m\u001b[43m,\u001b[49m\u001b[43m \u001b[49m\u001b[38;5;241;43m4\u001b[39;49m\u001b[43m)\u001b[49m\u001b[43m)\u001b[49m\n",
      "File \u001b[0;32m~/.local/lib/python3.10/site-packages/numpy/core/fromnumeric.py:285\u001b[0m, in \u001b[0;36mreshape\u001b[0;34m(a, newshape, order)\u001b[0m\n\u001b[1;32m    200\u001b[0m \u001b[38;5;129m@array_function_dispatch\u001b[39m(_reshape_dispatcher)\n\u001b[1;32m    201\u001b[0m \u001b[38;5;28;01mdef\u001b[39;00m \u001b[38;5;21mreshape\u001b[39m(a, newshape, order\u001b[38;5;241m=\u001b[39m\u001b[38;5;124m'\u001b[39m\u001b[38;5;124mC\u001b[39m\u001b[38;5;124m'\u001b[39m):\n\u001b[1;32m    202\u001b[0m     \u001b[38;5;124;03m\"\"\"\u001b[39;00m\n\u001b[1;32m    203\u001b[0m \u001b[38;5;124;03m    Gives a new shape to an array without changing its data.\u001b[39;00m\n\u001b[1;32m    204\u001b[0m \n\u001b[0;32m   (...)\u001b[0m\n\u001b[1;32m    283\u001b[0m \u001b[38;5;124;03m           [5, 6]])\u001b[39;00m\n\u001b[1;32m    284\u001b[0m \u001b[38;5;124;03m    \"\"\"\u001b[39;00m\n\u001b[0;32m--> 285\u001b[0m     \u001b[38;5;28;01mreturn\u001b[39;00m \u001b[43m_wrapfunc\u001b[49m\u001b[43m(\u001b[49m\u001b[43ma\u001b[49m\u001b[43m,\u001b[49m\u001b[43m \u001b[49m\u001b[38;5;124;43m'\u001b[39;49m\u001b[38;5;124;43mreshape\u001b[39;49m\u001b[38;5;124;43m'\u001b[39;49m\u001b[43m,\u001b[49m\u001b[43m \u001b[49m\u001b[43mnewshape\u001b[49m\u001b[43m,\u001b[49m\u001b[43m \u001b[49m\u001b[43morder\u001b[49m\u001b[38;5;241;43m=\u001b[39;49m\u001b[43morder\u001b[49m\u001b[43m)\u001b[49m\n",
      "File \u001b[0;32m~/.local/lib/python3.10/site-packages/numpy/core/fromnumeric.py:56\u001b[0m, in \u001b[0;36m_wrapfunc\u001b[0;34m(obj, method, *args, **kwds)\u001b[0m\n\u001b[1;32m     54\u001b[0m bound \u001b[38;5;241m=\u001b[39m \u001b[38;5;28mgetattr\u001b[39m(obj, method, \u001b[38;5;28;01mNone\u001b[39;00m)\n\u001b[1;32m     55\u001b[0m \u001b[38;5;28;01mif\u001b[39;00m bound \u001b[38;5;129;01mis\u001b[39;00m \u001b[38;5;28;01mNone\u001b[39;00m:\n\u001b[0;32m---> 56\u001b[0m     \u001b[38;5;28;01mreturn\u001b[39;00m \u001b[43m_wrapit\u001b[49m\u001b[43m(\u001b[49m\u001b[43mobj\u001b[49m\u001b[43m,\u001b[49m\u001b[43m \u001b[49m\u001b[43mmethod\u001b[49m\u001b[43m,\u001b[49m\u001b[43m \u001b[49m\u001b[38;5;241;43m*\u001b[39;49m\u001b[43margs\u001b[49m\u001b[43m,\u001b[49m\u001b[43m \u001b[49m\u001b[38;5;241;43m*\u001b[39;49m\u001b[38;5;241;43m*\u001b[39;49m\u001b[43mkwds\u001b[49m\u001b[43m)\u001b[49m\n\u001b[1;32m     58\u001b[0m \u001b[38;5;28;01mtry\u001b[39;00m:\n\u001b[1;32m     59\u001b[0m     \u001b[38;5;28;01mreturn\u001b[39;00m bound(\u001b[38;5;241m*\u001b[39margs, \u001b[38;5;241m*\u001b[39m\u001b[38;5;241m*\u001b[39mkwds)\n",
      "File \u001b[0;32m~/.local/lib/python3.10/site-packages/numpy/core/fromnumeric.py:45\u001b[0m, in \u001b[0;36m_wrapit\u001b[0;34m(obj, method, *args, **kwds)\u001b[0m\n\u001b[1;32m     43\u001b[0m \u001b[38;5;28;01mexcept\u001b[39;00m \u001b[38;5;167;01mAttributeError\u001b[39;00m:\n\u001b[1;32m     44\u001b[0m     wrap \u001b[38;5;241m=\u001b[39m \u001b[38;5;28;01mNone\u001b[39;00m\n\u001b[0;32m---> 45\u001b[0m result \u001b[38;5;241m=\u001b[39m \u001b[38;5;28mgetattr\u001b[39m(\u001b[43masarray\u001b[49m\u001b[43m(\u001b[49m\u001b[43mobj\u001b[49m\u001b[43m)\u001b[49m, method)(\u001b[38;5;241m*\u001b[39margs, \u001b[38;5;241m*\u001b[39m\u001b[38;5;241m*\u001b[39mkwds)\n\u001b[1;32m     46\u001b[0m \u001b[38;5;28;01mif\u001b[39;00m wrap:\n\u001b[1;32m     47\u001b[0m     \u001b[38;5;28;01mif\u001b[39;00m \u001b[38;5;129;01mnot\u001b[39;00m \u001b[38;5;28misinstance\u001b[39m(result, mu\u001b[38;5;241m.\u001b[39mndarray):\n",
      "\u001b[0;31mValueError\u001b[0m: setting an array element with a sequence. The requested array has an inhomogeneous shape after 1 dimensions. The detected shape was (2,) + inhomogeneous part."
     ]
    }
   ],
   "source": [
    "product = np.reshape(product[0], (4, 4))"
   ]
  },
  {
   "cell_type": "code",
   "execution_count": null,
   "id": "195607ea",
   "metadata": {},
   "outputs": [],
   "source": []
  }
 ],
 "metadata": {
  "kernelspec": {
   "display_name": "env",
   "language": "python",
   "name": "env"
  },
  "language_info": {
   "codemirror_mode": {
    "name": "ipython",
    "version": 3
   },
   "file_extension": ".py",
   "mimetype": "text/x-python",
   "name": "python",
   "nbconvert_exporter": "python",
   "pygments_lexer": "ipython3",
   "version": "3.10.12"
  }
 },
 "nbformat": 4,
 "nbformat_minor": 5
}
